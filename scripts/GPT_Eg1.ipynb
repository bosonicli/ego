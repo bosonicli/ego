{
 "cells": [
  {
   "attachments": {},
   "cell_type": "markdown",
   "metadata": {},
   "source": [
    "# Macro"
   ]
  },
  {
   "cell_type": "code",
   "execution_count": null,
   "metadata": {},
   "outputs": [],
   "source": [
    "import ipywidgets as widgets\n",
    "from IPython.display import display\n",
    "import matplotlib.pyplot as plt\n",
    "import numpy as np\n"
   ]
  },
  {
   "attachments": {},
   "cell_type": "markdown",
   "metadata": {},
   "source": [
    "# Widget 1"
   ]
  },
  {
   "cell_type": "code",
   "execution_count": null,
   "metadata": {},
   "outputs": [],
   "source": [
    "\n",
    "def plot_sum1(a, b):\n",
    "    x = np.linspace(0, 10, 100)\n",
    "    y = a * np.sin(x) + b * np.cos(x)\n",
    "    plt.plot(x, y)\n",
    "    plt.title('Sum of sin and cosine')\n",
    "    plt.xlabel('x')\n",
    "    plt.ylabel('y')\n",
    "    plt.show()\n",
    "\n",
    "a_widget = widgets.FloatSlider(min=-5, max=5, step=0.1, value=1.0, description='a')\n",
    "b_widget = widgets.FloatSlider(min=-5, max=5, step=0.1, value=1.0, description='b')\n",
    "plot_widget = widgets.Checkbox(value=True, description='Show plot')\n",
    "\n",
    "def on_value_change(change):\n",
    "    if plot_widget.value:\n",
    "        plot_sum1(a_widget.value, b_widget.value)\n",
    "        \n",
    "a_widget.observe(on_value_change, names='value')\n",
    "b_widget.observe(on_value_change, names='value')\n",
    "plot_widget.observe(on_value_change, names='value')\n"
   ]
  },
  {
   "attachments": {},
   "cell_type": "markdown",
   "metadata": {},
   "source": [
    "# Display 1"
   ]
  },
  {
   "cell_type": "code",
   "execution_count": null,
   "metadata": {},
   "outputs": [],
   "source": [
    "display(a_widget, b_widget, plot_widget)\n"
   ]
  },
  {
   "attachments": {},
   "cell_type": "markdown",
   "metadata": {},
   "source": [
    "# Widget 2"
   ]
  },
  {
   "cell_type": "code",
   "execution_count": null,
   "metadata": {},
   "outputs": [],
   "source": [
    "def plot_sum2(a, b):\n",
    "    x = np.linspace(0, 10, 100)\n",
    "    y = a * np.sin(x) + b * np.cos(x)\n",
    "    plt.plot(x, y)\n",
    "    plt.title('Sum of sin and cosine')\n",
    "    plt.xlabel('x')\n",
    "    plt.ylabel('y')\n",
    "    return plt.gcf()\n"
   ]
  },
  {
   "attachments": {},
   "cell_type": "markdown",
   "metadata": {},
   "source": [
    "# Display 2"
   ]
  },
  {
   "cell_type": "code",
   "execution_count": null,
   "metadata": {},
   "outputs": [],
   "source": [
    "fig = plot_sum2(1, 1)\n",
    "display(fig)\n"
   ]
  }
 ],
 "metadata": {
  "kernelspec": {
   "display_name": "base",
   "language": "python",
   "name": "python3"
  },
  "language_info": {
   "codemirror_mode": {
    "name": "ipython",
    "version": 3
   },
   "file_extension": ".py",
   "mimetype": "text/x-python",
   "name": "python",
   "nbconvert_exporter": "python",
   "pygments_lexer": "ipython3",
   "version": "3.7.11"
  },
  "orig_nbformat": 4,
  "vscode": {
   "interpreter": {
    "hash": "de7c8584ae51fbb089eecc0d6f203cc3cae3114d5c45556091d2c5b63465aa84"
   }
  }
 },
 "nbformat": 4,
 "nbformat_minor": 2
}
