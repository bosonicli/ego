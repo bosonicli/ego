{
 "cells": [
  {
   "cell_type": "code",
   "execution_count": null,
   "metadata": {},
   "outputs": [],
   "source": [
    "import ipywidgets as widgets\n",
    "from IPython.display import display\n",
    "import matplotlib.pyplot as plt\n",
    "import numpy as np\n",
    "\n",
    "def plot_sum(a, b, fig=None):\n",
    "    x = np.linspace(0, 10, 100)\n",
    "    y = a * np.sin(x) + b * np.cos(x)\n",
    "    if fig is None:\n",
    "        fig, ax = plt.subplots()\n",
    "    ax = fig.gca()\n",
    "    ax.plot(x, y)\n",
    "    ax.set_title('Sum of sin and cosine')\n",
    "    ax.set_xlabel('x')\n",
    "    ax.set_ylabel('y')\n",
    "    return fig\n",
    "\n",
    "a_widget = widgets.FloatSlider(min=-5, max=5, step=0.1, value=1.0, description='a')\n",
    "b_widget = widgets.FloatSlider(min=-5, max=5, step=0.1, value=1.0, description='b')\n",
    "plot_widget = widgets.Checkbox(value=True, description='Show plot')\n",
    "output_widget = widgets.Output()\n",
    "\n",
    "def on_value_change(change):\n",
    "    if plot_widget.value:\n",
    "        with output_widget:\n",
    "            output_widget.clear_output(wait=True)\n",
    "            fig = plot_sum(a_widget.value, b_widget.value)\n",
    "            display(fig)\n",
    "            display(output_widget.outputs[-1][1])\n",
    "            fig = output_widget.outputs[-1]['metadata']['figure']\n",
    "            fig.canvas.toolbar_visible = False\n",
    "            fig.canvas.header_visible = False\n",
    "            fig.canvas.footer_visible = False\n",
    "            fig.canvas.resizable = False\n",
    "            display(fig)\n",
    "            fig = None\n",
    "            # if output_widget.outputs:\n",
    "            #     # Reuse the existing figure object\n",
    "            #     fig = output_widget.outputs[-1]['metadata']['figure']\n",
    "            # fig = plot_sum(a_widget.value, b_widget.value, fig=fig)\n",
    "            # output_widget.clear_output(wait=True)\n",
    "            # display(fig)\n",
    "            # # Store the figure object in the output metadata\n",
    "            # output_widget.outputs[-1]['metadata']['figure'] = fig\n",
    "\n",
    "a_widget.observe(on_value_change, names='value')\n",
    "b_widget.observe(on_value_change, names='value')\n",
    "plot_widget.observe(on_value_change, names='value')\n",
    "\n",
    "display(a_widget, b_widget, plot_widget, output_widget)\n"
   ]
  }
 ],
 "metadata": {
  "kernelspec": {
   "display_name": "base",
   "language": "python",
   "name": "python3"
  },
  "language_info": {
   "name": "python",
   "version": "3.7.11"
  },
  "orig_nbformat": 4
 },
 "nbformat": 4,
 "nbformat_minor": 2
}
