{
 "cells": [
  {
   "cell_type": "markdown",
   "id": "ec40c5bd",
   "metadata": {},
   "source": [
    "# Test Jupyter"
   ]
  },
  {
   "cell_type": "markdown",
   "id": "d0eefd2f",
   "metadata": {},
   "source": [
    "## test shell interactive"
   ]
  },
  {
   "cell_type": "code",
   "execution_count": null,
   "id": "f7926987",
   "metadata": {},
   "outputs": [],
   "source": [
    "!ls\n",
    "!pwd"
   ]
  },
  {
   "cell_type": "markdown",
   "id": "548bc538",
   "metadata": {},
   "source": [
    "## test init"
   ]
  },
  {
   "cell_type": "code",
   "execution_count": null,
   "id": "8e5b8395",
   "metadata": {},
   "outputs": [],
   "source": [
    "import os\n",
    "os.getcwd()\n",
    "%matplotlib widget"
   ]
  },
  {
   "cell_type": "markdown",
   "id": "04b11a6f",
   "metadata": {},
   "source": [
    "## test import"
   ]
  },
  {
   "cell_type": "code",
   "execution_count": null,
   "id": "53a7082b",
   "metadata": {},
   "outputs": [],
   "source": [
    "import numpy as np\n",
    "import pandas as pd\n",
    "from matplotlib import pyplot as plt\n",
    "from mpl_toolkits.mplot3d import Axes3D\n",
    "\n",
    "from ipywidgets import interact, interactive, fixed, interact_manual\n",
    "import ipywidgets as widgets\n",
    "\n",
    "from IPython.display import display"
   ]
  },
  {
   "cell_type": "markdown",
   "id": "abab8f51",
   "metadata": {},
   "source": [
    "## test canvas setting"
   ]
  },
  {
   "cell_type": "code",
   "execution_count": null,
   "id": "68c1e83a",
   "metadata": {},
   "outputs": [],
   "source": [
    "fig1 = plt.figure()\n",
    "ax1 = plt.axes(projection = '3d')"
   ]
  },
  {
   "cell_type": "markdown",
   "id": "81311892",
   "metadata": {},
   "source": [
    "## test curve setting"
   ]
  },
  {
   "cell_type": "code",
   "execution_count": null,
   "id": "c261e2a2",
   "metadata": {},
   "outputs": [],
   "source": [
    "theta1 = np.linspace(-4 * np.pi, 4 * np.pi, 100)\n",
    "z1 = np.linspace(-2, 2, 100)\n",
    "r1 = z1**2 +1\n",
    "x1 = r1 * np.sin(theta1)\n",
    "y1 = r1 * np.cos(theta1)"
   ]
  },
  {
   "cell_type": "markdown",
   "id": "dc483684",
   "metadata": {},
   "source": [
    "## test curve show"
   ]
  },
  {
   "cell_type": "code",
   "execution_count": null,
   "id": "cbfe25c0",
   "metadata": {},
   "outputs": [],
   "source": [
    "ax1.plot(x1, y1, z1, label='parametric curve')\n",
    "ax1.legend()\n",
    "\n",
    "plt.show()"
   ]
  },
  {
   "cell_type": "markdown",
   "id": "b1964c4b",
   "metadata": {},
   "source": [
    "## test Jupyter interactive"
   ]
  },
  {
   "cell_type": "code",
   "execution_count": null,
   "id": "10847ab8",
   "metadata": {},
   "outputs": [],
   "source": [
    "def testSlider(x):\n",
    "    return x\n",
    "# generate a slider\n",
    "interact(testSlider, x=widgets.IntSlider(min=0, max=20, step=1, value=10));\n",
    "interact(testSlider, x=widgets.Combobox(options=[\"Chicago\", \"New York\", \"Washington\"], value=\"Chicago\"));\n",
    "\n",
    "def sumInteractive(a, b):\n",
    "    display(a + b)\n",
    "    return a+b\n",
    "w = interactive(sumInteractive, a=10, b=20)\n",
    "display(w)"
   ]
  }
 ],
 "metadata": {
  "interpreter": {
   "hash": "13d968865ae9a9681862bfb761ca802c1674de1f89b56dc94f7beb4c556a3221"
  },
  "kernelspec": {
   "display_name": "Wolfram Language 12.2",
   "language": "python",
   "name": "python3"
  },
  "language_info": {
   "codemirror_mode": {
    "name": "ipython",
    "version": 3
   },
   "file_extension": ".py",
   "mimetype": "text/x-python",
   "name": "python",
   "nbconvert_exporter": "python",
   "pygments_lexer": "ipython3",
   "version": "3.7.11"
  }
 },
 "nbformat": 4,
 "nbformat_minor": 5
}
