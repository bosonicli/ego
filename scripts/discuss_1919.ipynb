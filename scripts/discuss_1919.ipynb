{
 "cells": [
  {
   "cell_type": "code",
   "execution_count": 2,
   "metadata": {},
   "outputs": [
    {
     "data": {
      "application/vnd.jupyter.widget-view+json": {
       "model_id": "9e2461d814084c6c9654c72197a2e440",
       "version_major": 2,
       "version_minor": 0
      },
      "text/plain": [
       "IntSlider(value=5, max=10)"
      ]
     },
     "metadata": {},
     "output_type": "display_data"
    },
    {
     "data": {
      "application/vnd.jupyter.widget-view+json": {
       "model_id": "eb1a1109dc2a45f19ba1bc0282cc756a",
       "version_major": 2,
       "version_minor": 0
      },
      "text/plain": [
       "Output(layout=Layout(height='300px'))"
      ]
     },
     "metadata": {},
     "output_type": "display_data"
    }
   ],
   "source": [
    "import ipywidgets as widgets \n",
    "import matplotlib.pyplot as plt\n",
    "\n",
    "out = widgets.Output(layout=widgets.Layout(height='300px'))\n",
    "\n",
    "def f(change):\n",
    "    with out:\n",
    "        fig, ax = plt.subplots()\n",
    "        ax.plot([0, 1],[0, 10])\n",
    "        ax.set_title(change['new'])\n",
    "        out.clear_output()  # Required, otherwise output area stays the same but plots get added\n",
    "        # display(fig)  # Doesn't work as a replacement of plt.show()\n",
    "        plt.show()  # If not here, multiple plots are shown!\n",
    "\n",
    "w = widgets.IntSlider(min=0, max=10, value=5)\n",
    "w.observe(f, names=\"value\")\n",
    "display(w, out)"
   ]
  }
 ],
 "metadata": {
  "kernelspec": {
   "display_name": "base",
   "language": "python",
   "name": "python3"
  },
  "language_info": {
   "codemirror_mode": {
    "name": "ipython",
    "version": 3
   },
   "file_extension": ".py",
   "mimetype": "text/x-python",
   "name": "python",
   "nbconvert_exporter": "python",
   "pygments_lexer": "ipython3",
   "version": "3.7.11"
  },
  "orig_nbformat": 4
 },
 "nbformat": 4,
 "nbformat_minor": 2
}
