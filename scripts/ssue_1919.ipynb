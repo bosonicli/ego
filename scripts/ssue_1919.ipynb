{
 "cells": [
  {
   "cell_type": "code",
   "execution_count": null,
   "metadata": {},
   "outputs": [],
   "source": [
    "%matplotlib inline\n",
    "import numpy as np\n",
    "import matplotlib.pyplot as plt\n",
    "from IPython.display import display, clear_output\n",
    "import ipywidgets as widgets\n",
    "\n",
    "fig, ax = plt.subplots(nrows=1, ncols=1)\n",
    "x = np.linspace(-5, 5, 30)\n",
    "y = x**0\n",
    "\n",
    "line, = ax.plot(x, y)\n",
    "ax.set_xlabel('x')\n",
    "ax.set_ylabel('y')\n",
    "\n",
    "def myplot(n):\n",
    "    line.set_ydata(x**n)\n",
    "    ax.relim()\n",
    "    ax.autoscale()\n",
    "    display(fig)\n",
    "    # return(fig)\n",
    "    clear_output(wait=True)\n",
    "\n",
    "\n",
    "#cell3\n",
    "n_widget = widgets.IntSlider(\n",
    "                value=2,\n",
    "                min=0,\n",
    "                max=5)\n",
    "\n",
    "def on_value_change(change):\n",
    "    myplot(n=n_widget.value)\n",
    "\n",
    "n_widget.observe(on_value_change)\n",
    "display(n_widget)"
   ]
  }
 ],
 "metadata": {
  "kernelspec": {
   "display_name": "base",
   "language": "python",
   "name": "python3"
  },
  "language_info": {
   "codemirror_mode": {
    "name": "ipython",
    "version": 3
   },
   "file_extension": ".py",
   "mimetype": "text/x-python",
   "name": "python",
   "nbconvert_exporter": "python",
   "pygments_lexer": "ipython3",
   "version": "3.7.11"
  },
  "orig_nbformat": 4
 },
 "nbformat": 4,
 "nbformat_minor": 2
}
