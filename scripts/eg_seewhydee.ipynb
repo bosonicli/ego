{
 "cells": [
  {
   "cell_type": "code",
   "execution_count": 3,
   "metadata": {},
   "outputs": [
    {
     "name": "stderr",
     "output_type": "stream",
     "text": [
      "/home/bosonicli/.local/lib/python3.7/site-packages/ipykernel_launcher.py:14: DeprecationWarning: scipy.linspace is deprecated and will be removed in SciPy 2.0.0, use numpy.linspace instead\n",
      "  \n"
     ]
    },
    {
     "data": {
      "application/vnd.jupyter.widget-view+json": {
       "model_id": "47f2817028444f5e8e8c154cd2b3662f",
       "version_major": 2,
       "version_minor": 0
      },
      "text/plain": [
       "interactive(children=(FloatSlider(value=0.0, description='phi', max=3.2, min=-3.2, step=0.2), Output()), _dom_…"
      ]
     },
     "metadata": {},
     "output_type": "display_data"
    }
   ],
   "source": [
    "%matplotlib inline\n",
    "from scipy import *\n",
    "import matplotlib.pyplot as plt\n",
    "from ipywidgets import interact, FloatSlider\n",
    "from IPython.display import display\n",
    "\n",
    "def interact_cos():\n",
    "    ## Plot parameters\n",
    "    xmin, xmax, nx = 0.0, 10.0, 50\n",
    "    ymin, ymax = -1.2, 1.2\n",
    "    pmin, pmax, pstep, pinit = -3.2, 3.2, 0.2, 0.0\n",
    "    \n",
    "    ## Set up the plot data\n",
    "    x     = linspace(xmin, xmax, nx)\n",
    "    fig   = plt.figure(figsize=(8,3))\n",
    "    line, = plt.plot([], [], linewidth=2) # Initialize curve to empty data.\n",
    "\n",
    "    ## Set up the figure axes, etc.\n",
    "    plt.title(\"y = cos(x + phi)\")\n",
    "    plt.xlim(xmin, xmax)\n",
    "    plt.ylim(ymin, ymax)\n",
    "    plt.xlabel('x')\n",
    "    plt.ylabel('y')\n",
    "    plt.close()      # Don't show the figure yet.\n",
    "\n",
    "    ## Callback function\n",
    "    def plot_cos(phi):\n",
    "        y = cos(x + phi)\n",
    "        line.set_data(x, y)\n",
    "        display(fig)\n",
    "\n",
    "    ## Generate the user interface.\n",
    "    interact(plot_cos, phi=FloatSlider(min=pmin, max=pmax, step=pstep, value=pinit))\n",
    "\n",
    "interact_cos()"
   ]
  }
 ],
 "metadata": {
  "kernelspec": {
   "display_name": "base",
   "language": "python",
   "name": "python3"
  },
  "language_info": {
   "name": "python",
   "version": "3.7.11"
  },
  "orig_nbformat": 4
 },
 "nbformat": 4,
 "nbformat_minor": 2
}
